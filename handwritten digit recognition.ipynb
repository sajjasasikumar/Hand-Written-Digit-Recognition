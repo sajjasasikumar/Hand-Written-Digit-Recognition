{
 "cells": [
  {
   "cell_type": "markdown",
   "id": "039cf17f",
   "metadata": {},
   "source": [
    "# Import libraries"
   ]
  },
  {
   "cell_type": "code",
   "execution_count": 1,
   "id": "c1e155e6",
   "metadata": {},
   "outputs": [],
   "source": [
    "import numpy as np\n",
    "import pandas as pd"
   ]
  },
  {
   "cell_type": "code",
   "execution_count": 2,
   "id": "28bb79a9",
   "metadata": {},
   "outputs": [
    {
     "name": "stdout",
     "output_type": "stream",
     "text": [
      "WARNING:tensorflow:From C:\\Users\\Vinod\\AppData\\Roaming\\Python\\Python311\\site-packages\\keras\\src\\losses.py:2976: The name tf.losses.sparse_softmax_cross_entropy is deprecated. Please use tf.compat.v1.losses.sparse_softmax_cross_entropy instead.\n",
      "\n"
     ]
    }
   ],
   "source": [
    "from keras import datasets"
   ]
  },
  {
   "cell_type": "markdown",
   "id": "a6eb9347",
   "metadata": {},
   "source": [
    "## Loading dataset"
   ]
  },
  {
   "cell_type": "code",
   "execution_count": 3,
   "id": "280be213",
   "metadata": {},
   "outputs": [],
   "source": [
    "(x_train,y_train),(x_test,y_test) = datasets.mnist.load_data()"
   ]
  },
  {
   "cell_type": "code",
   "execution_count": 9,
   "id": "f0a291a4",
   "metadata": {},
   "outputs": [
    {
     "name": "stdout",
     "output_type": "stream",
     "text": [
      "(28, 28, 1)\n"
     ]
    }
   ],
   "source": [
    "width,height = x_train[0].shape\n",
    "input_shape = (width,height,1)\n",
    "print(input_shape)"
   ]
  },
  {
   "cell_type": "markdown",
   "id": "33860f82",
   "metadata": {},
   "source": [
    "## Reshaping the dataset"
   ]
  },
  {
   "cell_type": "code",
   "execution_count": 10,
   "id": "95794b79",
   "metadata": {},
   "outputs": [
    {
     "name": "stdout",
     "output_type": "stream",
     "text": [
      "(60000, 28, 28, 1)\n",
      "(10000, 28, 28, 1)\n"
     ]
    }
   ],
   "source": [
    "x_train = x_train.reshape(x_train.shape[0],width,height,1)\n",
    "x_test = x_test.reshape(x_test.shape[0],width,height,1)\n",
    "print(x_train.shape)\n",
    "print(x_test.shape)"
   ]
  },
  {
   "cell_type": "markdown",
   "id": "494df5ab",
   "metadata": {},
   "source": [
    "## Train and test split"
   ]
  },
  {
   "cell_type": "code",
   "execution_count": 11,
   "id": "4dc8b592",
   "metadata": {},
   "outputs": [],
   "source": [
    "from sklearn.model_selection import train_test_split\n",
    "x_train,x_val,y_train,y_val = train_test_split(x_train,y_train,test_size=0.1,random_state=2)"
   ]
  },
  {
   "cell_type": "code",
   "execution_count": 12,
   "id": "efb7c440",
   "metadata": {},
   "outputs": [
    {
     "data": {
      "text/plain": [
       "(6000, 28, 28, 1)"
      ]
     },
     "execution_count": 12,
     "metadata": {},
     "output_type": "execute_result"
    }
   ],
   "source": [
    "x_val.shape"
   ]
  },
  {
   "cell_type": "markdown",
   "id": "993e1835",
   "metadata": {},
   "source": [
    "## Normalising the Dataset"
   ]
  },
  {
   "cell_type": "code",
   "execution_count": 13,
   "id": "99241d0c",
   "metadata": {},
   "outputs": [],
   "source": [
    "x_train = (x_train-x_train.mean())/x_train.std()\n",
    "x_test = (x_test-x_test.mean())/x_test.std()\n",
    "x_val = (x_val-x_val.mean())/x_val.std()"
   ]
  },
  {
   "cell_type": "code",
   "execution_count": 14,
   "id": "746ada50",
   "metadata": {},
   "outputs": [],
   "source": [
    "from tensorflow import keras"
   ]
  },
  {
   "cell_type": "code",
   "execution_count": 15,
   "id": "abbac8fb",
   "metadata": {},
   "outputs": [],
   "source": [
    "y_train = keras.utils.to_categorical(y_train)\n",
    "y_test = keras.utils.to_categorical(y_test)\n",
    "y_val = keras.utils.to_categorical(y_val)"
   ]
  },
  {
   "cell_type": "code",
   "execution_count": 18,
   "id": "42d28521",
   "metadata": {},
   "outputs": [],
   "source": [
    "num_labels = 10"
   ]
  },
  {
   "cell_type": "markdown",
   "id": "9a71f076",
   "metadata": {},
   "source": [
    "## MODEL"
   ]
  },
  {
   "cell_type": "code",
   "execution_count": 17,
   "id": "50a4ddb6",
   "metadata": {},
   "outputs": [],
   "source": [
    "from tensorflow.keras.models import Sequential\n",
    "from tensorflow.keras.layers import Dense, Dropout, Flatten, Conv2D, MaxPooling2D, AveragePooling2D"
   ]
  },
  {
   "cell_type": "code",
   "execution_count": 20,
   "id": "7da5e6c6",
   "metadata": {},
   "outputs": [],
   "source": [
    "model = Sequential()\n",
    "\n",
    "# layer - 1\n",
    "model.add(Conv2D(6,kernel_size=(5,5), strides=(1,1),activation='tanh',input_shape = (28,28,1)))\n",
    "model.add(AveragePooling2D(pool_size=(2,2),strides=(1,1)))\n",
    "\n",
    "# layer - 2\n",
    "model.add(Conv2D(16,kernel_size=(5,5), strides=(1,1),activation='tanh'))\n",
    "model.add(AveragePooling2D(pool_size=(2,2),strides=(2,2)))\n",
    "model.add(Conv2D(120,kernel_size=(5,5), strides=(1,1),activation='tanh'))\n",
    "\n",
    "# layer - 3\n",
    "model.add(Flatten())\n",
    "\n",
    "# layer - 4\n",
    "model.add(Dense(84,activation='tanh'))\n",
    "\n",
    "# layer - 5\n",
    "model.add(Dense(num_labels,activation='softmax'))"
   ]
  },
  {
   "cell_type": "code",
   "execution_count": 22,
   "id": "58192633",
   "metadata": {},
   "outputs": [
    {
     "name": "stdout",
     "output_type": "stream",
     "text": [
      "Model: \"sequential_1\"\n",
      "_________________________________________________________________\n",
      " Layer (type)                Output Shape              Param #   \n",
      "=================================================================\n",
      " conv2d_1 (Conv2D)           (None, 24, 24, 6)         156       \n",
      "                                                                 \n",
      " average_pooling2d (Average  (None, 23, 23, 6)         0         \n",
      " Pooling2D)                                                      \n",
      "                                                                 \n",
      " conv2d_2 (Conv2D)           (None, 19, 19, 16)        2416      \n",
      "                                                                 \n",
      " average_pooling2d_1 (Avera  (None, 9, 9, 16)          0         \n",
      " gePooling2D)                                                    \n",
      "                                                                 \n",
      " conv2d_3 (Conv2D)           (None, 5, 5, 120)         48120     \n",
      "                                                                 \n",
      " flatten (Flatten)           (None, 3000)              0         \n",
      "                                                                 \n",
      " dense (Dense)               (None, 84)                252084    \n",
      "                                                                 \n",
      " dense_1 (Dense)             (None, 10)                850       \n",
      "                                                                 \n",
      "=================================================================\n",
      "Total params: 303626 (1.16 MB)\n",
      "Trainable params: 303626 (1.16 MB)\n",
      "Non-trainable params: 0 (0.00 Byte)\n",
      "_________________________________________________________________\n"
     ]
    }
   ],
   "source": [
    "model.summary()"
   ]
  },
  {
   "cell_type": "code",
   "execution_count": 26,
   "id": "a52259af",
   "metadata": {},
   "outputs": [],
   "source": [
    "model.compile(optimizer = 'adam',loss = 'categorical_crossentropy',metrics = ['accuracy'])"
   ]
  },
  {
   "cell_type": "code",
   "execution_count": 27,
   "id": "bdc63e36",
   "metadata": {},
   "outputs": [
    {
     "name": "stdout",
     "output_type": "stream",
     "text": [
      "Epoch 1/20\n",
      "1688/1688 [==============================] - 27s 15ms/step - loss: 0.2026 - accuracy: 0.9399 - val_loss: 0.1135 - val_accuracy: 0.9675\n",
      "Epoch 2/20\n",
      "1688/1688 [==============================] - 27s 16ms/step - loss: 0.0993 - accuracy: 0.9695 - val_loss: 0.0891 - val_accuracy: 0.9732\n",
      "Epoch 3/20\n",
      "1688/1688 [==============================] - 28s 17ms/step - loss: 0.0847 - accuracy: 0.9739 - val_loss: 0.0778 - val_accuracy: 0.9767\n",
      "Epoch 4/20\n",
      "1688/1688 [==============================] - 31s 18ms/step - loss: 0.0725 - accuracy: 0.9783 - val_loss: 0.0730 - val_accuracy: 0.9787\n",
      "Epoch 5/20\n",
      "1688/1688 [==============================] - 28s 17ms/step - loss: 0.0689 - accuracy: 0.9785 - val_loss: 0.0915 - val_accuracy: 0.9700\n",
      "Epoch 6/20\n",
      "1688/1688 [==============================] - 28s 17ms/step - loss: 0.0646 - accuracy: 0.9801 - val_loss: 0.0803 - val_accuracy: 0.9755\n",
      "Epoch 7/20\n",
      "1688/1688 [==============================] - 27s 16ms/step - loss: 0.0598 - accuracy: 0.9816 - val_loss: 0.0760 - val_accuracy: 0.9785\n",
      "Epoch 8/20\n",
      "1688/1688 [==============================] - 27s 16ms/step - loss: 0.0556 - accuracy: 0.9835 - val_loss: 0.0536 - val_accuracy: 0.9837\n",
      "Epoch 9/20\n",
      "1688/1688 [==============================] - 27s 16ms/step - loss: 0.0563 - accuracy: 0.9823 - val_loss: 0.0681 - val_accuracy: 0.9790\n",
      "Epoch 10/20\n",
      "1688/1688 [==============================] - 26s 16ms/step - loss: 0.0516 - accuracy: 0.9837 - val_loss: 0.0641 - val_accuracy: 0.9813\n",
      "Epoch 11/20\n",
      "1688/1688 [==============================] - 28s 16ms/step - loss: 0.0507 - accuracy: 0.9842 - val_loss: 0.0605 - val_accuracy: 0.9840\n",
      "Epoch 12/20\n",
      "1688/1688 [==============================] - 26s 15ms/step - loss: 0.0507 - accuracy: 0.9839 - val_loss: 0.0730 - val_accuracy: 0.9790\n",
      "Epoch 13/20\n",
      "1688/1688 [==============================] - 27s 16ms/step - loss: 0.0478 - accuracy: 0.9847 - val_loss: 0.0600 - val_accuracy: 0.9825\n",
      "Epoch 14/20\n",
      "1688/1688 [==============================] - 31s 19ms/step - loss: 0.0462 - accuracy: 0.9851 - val_loss: 0.0662 - val_accuracy: 0.9803\n",
      "Epoch 15/20\n",
      "1688/1688 [==============================] - 38s 22ms/step - loss: 0.0463 - accuracy: 0.9856 - val_loss: 0.0569 - val_accuracy: 0.9833\n",
      "Epoch 16/20\n",
      "1688/1688 [==============================] - 33s 20ms/step - loss: 0.0457 - accuracy: 0.9856 - val_loss: 0.0761 - val_accuracy: 0.9780\n",
      "Epoch 17/20\n",
      "1688/1688 [==============================] - 30s 18ms/step - loss: 0.0468 - accuracy: 0.9849 - val_loss: 0.0620 - val_accuracy: 0.9817\n",
      "Epoch 18/20\n",
      "1688/1688 [==============================] - 29s 17ms/step - loss: 0.0450 - accuracy: 0.9854 - val_loss: 0.0577 - val_accuracy: 0.9820\n",
      "Epoch 19/20\n",
      "1688/1688 [==============================] - 26s 16ms/step - loss: 0.0399 - accuracy: 0.9874 - val_loss: 0.0625 - val_accuracy: 0.9827\n",
      "Epoch 20/20\n",
      "1688/1688 [==============================] - 27s 16ms/step - loss: 0.0397 - accuracy: 0.9872 - val_loss: 0.0548 - val_accuracy: 0.9847\n"
     ]
    },
    {
     "data": {
      "text/plain": [
       "<keras.src.callbacks.History at 0x2e594ea9e10>"
      ]
     },
     "execution_count": 27,
     "metadata": {},
     "output_type": "execute_result"
    }
   ],
   "source": [
    "model.fit(x_train,y_train,epochs = 20, batch_size = 32,verbose=1, validation_data=(x_val,y_val))"
   ]
  },
  {
   "cell_type": "code",
   "execution_count": 28,
   "id": "2a47b49f",
   "metadata": {},
   "outputs": [
    {
     "name": "stdout",
     "output_type": "stream",
     "text": [
      "313/313 [==============================] - 2s 5ms/step - loss: 0.0413 - accuracy: 0.9866\n"
     ]
    }
   ],
   "source": [
    "score = model.evaluate(x_test,y_test,verbose=1)"
   ]
  },
  {
   "cell_type": "code",
   "execution_count": 30,
   "id": "54a4ce7b",
   "metadata": {},
   "outputs": [
    {
     "name": "stdout",
     "output_type": "stream",
     "text": [
      "testing accuracy =  0.9865999817848206\n"
     ]
    }
   ],
   "source": [
    "print(\"testing accuracy = \",score[1])"
   ]
  },
  {
   "cell_type": "code",
   "execution_count": 31,
   "id": "78ae8650",
   "metadata": {},
   "outputs": [
    {
     "name": "stdout",
     "output_type": "stream",
     "text": [
      "1/1 [==============================] - 0s 233ms/step\n"
     ]
    },
    {
     "data": {
      "text/plain": [
       "array([2], dtype=int64)"
      ]
     },
     "execution_count": 31,
     "metadata": {},
     "output_type": "execute_result"
    }
   ],
   "source": [
    "model.predict(x_test[1].reshape(1,28,28)).argmax(axis=1)"
   ]
  },
  {
   "cell_type": "code",
   "execution_count": 33,
   "id": "dbc806c8",
   "metadata": {},
   "outputs": [
    {
     "data": {
      "text/plain": [
       "<matplotlib.image.AxesImage at 0x2e5a3e269d0>"
      ]
     },
     "execution_count": 33,
     "metadata": {},
     "output_type": "execute_result"
    },
    {
     "data": {
      "image/png": "[encoded data removed]",
      "text/plain": [
       "<Figure size 640x480 with 1 Axes>"
      ]
     },
     "metadata": {},
     "output_type": "display_data"
    }
   ],
   "source": [
    "import matplotlib.pyplot as plt\n",
    "plt.imshow(x_test[1])"
   ]
  },
  {
   "cell_type": "code",
   "execution_count": null,
   "id": "1b3d393a",
   "metadata": {},
   "outputs": [],
   "source": []
  }
 ],
 "metadata": {
  "kernelspec": {
   "display_name": "Python 3 (ipykernel)",
   "language": "python",
   "name": "python3"
  },
  "language_info": {
   "codemirror_mode": {
    "name": "ipython",
    "version": 3
   },
   "file_extension": ".py",
   "mimetype": "text/x-python",
   "name": "python",
   "nbconvert_exporter": "python",
   "pygments_lexer": "ipython3",
   "version": "3.11.5"
  }
 },
 "nbformat": 4,
 "nbformat_minor": 5
}
